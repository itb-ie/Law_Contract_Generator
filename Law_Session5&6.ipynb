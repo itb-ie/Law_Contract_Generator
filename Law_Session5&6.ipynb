{
  "nbformat": 4,
  "nbformat_minor": 0,
  "metadata": {
    "colab": {
      "name": "Law Session5&6.ipynb",
      "provenance": [],
      "collapsed_sections": [],
      "toc_visible": true,
      "authorship_tag": "ABX9TyNchtLsOXbpE3AXgJJpdzWL",
      "include_colab_link": true
    },
    "kernelspec": {
      "name": "python3",
      "display_name": "Python 3"
    }
  },
  "cells": [
    {
      "cell_type": "markdown",
      "metadata": {
        "id": "view-in-github",
        "colab_type": "text"
      },
      "source": [
        "<a href=\"https://colab.research.google.com/github/itb-ie/Law_Contract_Generator/blob/master/Law_Session5%266.ipynb\" target=\"_parent\"><img src=\"https://colab.research.google.com/assets/colab-badge.svg\" alt=\"Open In Colab\"/></a>"
      ]
    },
    {
      "cell_type": "markdown",
      "metadata": {
        "id": "1BeohUFW19v3",
        "colab_type": "text"
      },
      "source": [
        "<img src='https://raw.githubusercontent.com/itb-ie/MasterLaw-Session1-2/master/Title.png'>\n",
        "\n",
        "<img src='https://datawider.com/wp-content/uploads/2019/11/How-to-Learn-Python.jpg' width=500px />\n",
        "\n",
        "<img src='https://pprablog.files.wordpress.com/2015/03/gravel.jpg' width=330px />\n",
        "\n",
        "<br><br>\n",
        "# <center>Sessions 5&6 </center>\n",
        "\n"
      ]
    },
    {
      "cell_type": "markdown",
      "metadata": {
        "id": "Y8UzpERC2VXZ",
        "colab_type": "text"
      },
      "source": [
        "# Recap Session 3&4\n",
        "<img src='https://github.com/itb-ie/MasterLaw-Session3-4/raw/master/Picture3.png' width=600px/>"
      ]
    },
    {
      "cell_type": "markdown",
      "metadata": {
        "id": "9YkgOr7YF9XX",
        "colab_type": "text"
      },
      "source": [
        "# Homework Questions"
      ]
    },
    {
      "cell_type": "markdown",
      "metadata": {
        "id": "GWMSygVm5OMw",
        "colab_type": "text"
      },
      "source": [
        "# Battle Plan\n",
        "\n",
        "![plan](https://github.com/itb-ie/MasterLaw-Session5-6/raw/master/home-alone-battle-plan-paul-van-scott.jpg)\n",
        "\n",
        "\n",
        "1.   Define the Problem\n",
        "2.   Break It Down Into Pieces\n",
        "3.   Solve Each Piece\n",
        "4.   Put It All Together\n",
        "5.   Create Executable File\n",
        "\n",
        "\n",
        "\n"
      ]
    },
    {
      "cell_type": "markdown",
      "metadata": {
        "id": "srW1GErZ8ANu",
        "colab_type": "text"
      },
      "source": [
        "## Define the Problem\n",
        "\n",
        "One of the most repetitive tasks that we were able to identify in this line of work is the filling in of certain templates. Those templates could be contracts, forms, letters, emails. <br>\n",
        "A lot of time can be saved if we create a program that makes the fill in of a template much easier. <br>\n",
        "Let us focus on a contract generator. \n",
        "\n"
      ]
    },
    {
      "cell_type": "markdown",
      "metadata": {
        "id": "P3A33OE99Zpb",
        "colab_type": "text"
      },
      "source": [
        "## Break it down into smaller pieces\n",
        "What is the functionality?\n",
        "\n",
        "\n",
        "1.   Starting from a template, it needs to fill in the template with the information provided\n",
        "2.   The contracts need to be saved in Doc format\n",
        "2.   A GUI is needed\n",
        "3.   Need to be able to view the contract after it was generated. Also need to print, change, save\n",
        "4.   Need to be able to generate a batch of contracts. Use an Excel file and generate all the contracts based on that file\n",
        "5.   Need to run the program as standalone, without the need of python, pycharm, etc\n",
        "\n"
      ]
    },
    {
      "cell_type": "markdown",
      "metadata": {
        "id": "mA3KyO7tPOlj",
        "colab_type": "text"
      },
      "source": [
        "## Template Filling\n",
        "1. How do we create and fill in a template? <br>\n",
        "First step if to get a template from somewhere. Ideally your company shoudl have a template that you are using. If that is in a doc file, you just copy paste it into a text editor, so you are left with the template in text form. \n",
        "2. How do we fill in a template? <br>\n",
        "  We identify the places where the **wildcard** is and replace them with {}. Then we use the format() string method to add the wildcard in. Check out this example:"
      ]
    },
    {
      "cell_type": "code",
      "metadata": {
        "id": "wCprianESfem",
        "colab_type": "code",
        "colab": {}
      },
      "source": [
        "name = input(\"What is the name of the lawyer?\")\n",
        "sum = input(\"What is the fee?\")\n",
        "text = \"This contract is between Bogdan and {}. {} will charge {} per hour for legal services.\"\n",
        "\n",
        "# fill in the template using format\n",
        "filled_text = text.format(name, name, sum)\n",
        "print(filled_text)"
      ],
      "execution_count": null,
      "outputs": []
    },
    {
      "cell_type": "markdown",
      "metadata": {
        "id": "JaWXzC8MTNtP",
        "colab_type": "text"
      },
      "source": [
        "**This is the main ideea. You will create a much biger template and fill it in with a lot more information. But the idea stays the same.**"
      ]
    },
    {
      "cell_type": "markdown",
      "metadata": {
        "id": "Ugmyl2nDV9YR",
        "colab_type": "text"
      },
      "source": [
        "## Saving as DOC\n",
        "This is something we have done before. The python-docx library is used to achieve this functionality. <br>\n",
        "Once we have the contract in text format, we can save it as a doc like this:"
      ]
    },
    {
      "cell_type": "code",
      "metadata": {
        "id": "tnFoWyzsWNu7",
        "colab_type": "code",
        "colab": {}
      },
      "source": [
        "! pip install python-docx"
      ],
      "execution_count": null,
      "outputs": []
    },
    {
      "cell_type": "code",
      "metadata": {
        "id": "GM2WujkuW6ba",
        "colab_type": "code",
        "colab": {}
      },
      "source": [
        "import docx\n",
        "from docx.enum.text import WD_ALIGN_PARAGRAPH\n",
        "from docx.shared import Pt\n",
        "from docx.shared import RGBColor\n",
        "\n",
        "doc = docx.Document()\n",
        "\n",
        "# title\n",
        "para = doc.add_paragraph()\n",
        "para.alignment = WD_ALIGN_PARAGRAPH.CENTER\n",
        "run = para.add_run(\"Super Bulletproof Contract\")\n",
        "run.font.name = \"Times New Roman\"\n",
        "run.font.size = Pt(30)\n",
        "run.font.bold = True\n",
        "\n",
        "# body  \n",
        "para = doc.add_paragraph()\n",
        "para.alignment = WD_ALIGN_PARAGRAPH.LEFT\n",
        "run = para.add_run(\"This is the body of the contract. It is amazing.\")\n",
        "run.font.name = \"Times New Roman\"\n",
        "run.font.size = Pt(12)\n",
        "run.font.color.rgb = RGBColor(0x42, 0x24, 0xE9)\n",
        "\n",
        "# save the file\n",
        "doc.save(\"Contract.docx\")\n"
      ],
      "execution_count": 8,
      "outputs": []
    },
    {
      "cell_type": "markdown",
      "metadata": {
        "id": "WKtmWmxFZBDj",
        "colab_type": "text"
      },
      "source": [
        "## THE GUI\n",
        "![img](https://github.com/itb-ie/MasterLaw-Session5-6/raw/master/not-this-again-300x300.jpg)\n",
        "<br>\n",
        "The GUI is the same as what we have used before: a better arrabged collection of label, entries and buttons. <br>\n",
        "I used ttkthemes to make it a bit better looking. This means that you need to install ttkthemes. <br>\n",
        "\n",
        "Here is a short explanation:\n",
        "\n"
      ]
    },
    {
      "cell_type": "markdown",
      "metadata": {
        "id": "849qIj5ldHf-",
        "colab_type": "text"
      },
      "source": [
        "![image](https://github.com/itb-ie/MasterLaw-Session5-6/raw/master/gui.jpg)\n",
        "The application has a table layout. There are 12 rows and 3 columns.<br>\n",
        "The title is an image I have created<br>\n",
        "The look is a ttktheme called radiance <br>\n",
        "The entrie reflect the wildcards from the contract template that I have used <br>\n",
        "The buttons represent a part of the functionality that we want to achieve:\n",
        "1. **Generate Contract** will take the information filled inside the entries and generate a new contract\n",
        "2. **Generatye from Excel** will open a dialog to choose an excel file. The excel file needs to be in a certain format that the program will understand\n",
        "3. **Modify the Excel** will open the same dialog, but once the file chose, it will open it with Excel. This allows to make changes to the excel file\n",
        "4. **Open Contract** this just opens a dialog to select any docx file. Once opened you have all the MS word functionality. *It depends on a version of Microsoft Word being installed on your system*\n",
        "5. **Delete Contract** opens a dialog and once a docx is selected, it will delete it\n",
        "6. **Exit** stops the program execution"
      ]
    },
    {
      "cell_type": "code",
      "metadata": {
        "id": "dvnc4CfjguRO",
        "colab_type": "code",
        "colab": {}
      },
      "source": [
        "# just the GUI\n",
        "window = ThemedTk(screenName=\"Contract Generator\", theme=\"radiance\")\n",
        "\n",
        "\n",
        "window.title(\"Generate Docs\")\n",
        "# window.geometry(\"1400x700\")\n",
        "window.resizable(0, 0)\n",
        "\n",
        "# with ttk we need to configure styles:\n",
        "style = Style()\n",
        "style.configure(\"TButton\", font=(\"Arial\", 12, 'bold'), width=25)\n",
        "style.configure(\"TLabel\", font=(\"Arial\", 15), anchor=tk.W, width=30, foreground=\"darkblue\")\n",
        "style.configure(\"TEntry\", font=(\"Arial\", 15), anchor=tk.W)\n",
        "\n",
        "title_image = tk.PhotoImage(file=\"doc-generator.gif\")\n",
        "lb = Label(master=window, image=title_image)\n",
        "lb.grid(row=0, pady=20, columnspan=3)\n",
        "\n",
        "# Add the lawyer label and textbox\n",
        "lb_lawyer = Label(master=window, text=\"Lawyer Name\")\n",
        "lb_lawyer.grid(row=1, column=0, padx=10)\n",
        "\n",
        "et_lawyer_text = tk.StringVar()\n",
        "et_lawyer = Entry(master=window, width=30, textvariable=et_lawyer_text)\n",
        "et_lawyer.grid(row=1, column=1)\n",
        "\n",
        "# Add the client label and textbox\n",
        "lb_client = Label(master=window, text=\"Client Name\")\n",
        "lb_client.grid(row=2, column=0)\n",
        "\n",
        "et_client_text = tk.StringVar()\n",
        "et_client = Entry(master=window, width=30, textvariable=et_client_text)\n",
        "et_client.grid(row=2, column=1)\n",
        "\n",
        "# Add the service label and textbox\n",
        "lb_service = Label(master=window, text=\"Service\")\n",
        "lb_service.grid(row=3, column=0)\n",
        "\n",
        "et_service_text = tk.StringVar()\n",
        "et_service = Entry(master=window, width=30, textvariable=et_service_text)\n",
        "et_service.grid(row=3, column=1)\n",
        "\n",
        "# compensation_value\n",
        "lb_compensation = Label(master=window, text=\"Compensation Value / Hour\")\n",
        "lb_compensation.grid(row=4, column=0)\n",
        "\n",
        "et_compensation_text = tk.StringVar()\n",
        "et_compensation = Entry(master=window, width=30, textvariable=et_compensation_text)\n",
        "et_compensation.grid(row=4, column=1)\n",
        "\n",
        "# deposit_value\n",
        "lb_deposit = Label(master=window, text=\"Deposit Value\")\n",
        "lb_deposit.grid(row=5, column=0)\n",
        "\n",
        "et_deposit_text = tk.StringVar()\n",
        "et_deposit = Entry(master=window, width=30, textvariable=et_deposit_text)\n",
        "et_deposit.grid(row=5, column=1)\n",
        "\n",
        "# refundable_deposit_value\n",
        "lb_refundable = Label(master=window, text=\"Refundable Deposit Value\")\n",
        "lb_refundable.grid(row=6, column=0)\n",
        "\n",
        "et_refundable_text = tk.StringVar()\n",
        "et_refundable = Entry(master=window, width=30, textvariable=et_refundable_text)\n",
        "et_refundable.grid(row=6, column=1)\n",
        "\n",
        "# nonrefundable_deposit_value\n",
        "lb_not_refundable = Label(master=window, text=\"Nonrefundable Deposit Value\")\n",
        "lb_not_refundable.grid(row=7, column=0)\n",
        "\n",
        "et_non_refundable_text = tk.StringVar()\n",
        "et_non_refundable = Entry(master=window, width=30, textvariable=et_non_refundable_text)\n",
        "et_non_refundable.grid(row=7, column=1)\n",
        "\n",
        "# deposit_date\n",
        "lb_deposit_date = Label(master=window, text=\"Deposit Date\")\n",
        "lb_deposit_date.grid(row=8, column=0)\n",
        "\n",
        "et_deposit_date_text = tk.StringVar()\n",
        "et_deposit_date = Entry(master=window, width=30, textvariable=et_deposit_date_text)\n",
        "et_deposit_date.grid(row=8, column=1)\n",
        "\n",
        "# jurisdiction\n",
        "lb_jurisdiction = Label(master=window, text=\"Jurisdiction\")\n",
        "lb_jurisdiction.grid(row=9, column=0)\n",
        "\n",
        "et_jurisdiction_text = tk.StringVar()\n",
        "et_jurisdiction = Entry(master=window, width=30, textvariable=et_jurisdiction_text)\n",
        "et_jurisdiction.grid(row=9, column=1)\n",
        "\n",
        "# status bar\n",
        "lb_status = Label(master=window, text=\"\", width=40)\n",
        "lb_status.grid(row=10, column=0, columnspan=3, pady=20)\n",
        "\n",
        "# Add the buttons\n",
        "bt_generate = Button(master=window, text=\"Generate Contract\", command=generate)\n",
        "bt_generate.grid(row=1, column=2, padx=30)\n",
        "\n",
        "bt_load_excel = Button(master=window, text=\"Generate from Excel\", command=generate_excel)\n",
        "bt_load_excel.grid(row=2, column=2, padx=30)\n",
        "\n",
        "bt_load_excel = Button(master=window, text=\"Modify the Excel\", command=modify_excel)\n",
        "bt_load_excel.grid(row=3, column=2, padx=30)\n",
        "\n",
        "bt_open_contract = Button(master=window, text=\"Open Contract\", command=open_contract)\n",
        "bt_open_contract.grid(row=4, column=2, padx=30)\n",
        "\n",
        "bt_open_contract = Button(master=window, text=\"Delete Contract\", command=delete_contract)\n",
        "bt_open_contract.grid(row=5, column=2, padx=30)\n",
        "\n",
        "bt_exit = Button(master=window, text=\"Exit\", command=tk.sys.exit)\n",
        "bt_exit.grid(row=11, column=2, pady=20)\n",
        "\n",
        "# main loop\n",
        "window.mainloop()"
      ],
      "execution_count": null,
      "outputs": []
    },
    {
      "cell_type": "markdown",
      "metadata": {
        "id": "iwmsvTHohZcz",
        "colab_type": "text"
      },
      "source": [
        "## View/Print the Contract\n",
        "Most of the \"extra\" functionality like view the contract, modify the excel which seems complicated is just calling the appropriate program for the appropriate file type. So we just tell the operating system to open the file using the application it knows best. So when trying to open a doc file, microsoft words will be used. When trying to open an xls file, microsoft excel will be used.<br>\n",
        "Once inside the application you can do all the actions that the application allows: modify, save, rename, print, etc <br>\n",
        "The code to \"choose\" the application and open the file is not OS independent. So it looks slightly different on Win or Mac. **This code is just for reference, it makes no sense to run in inside colab:**"
      ]
    },
    {
      "cell_type": "code",
      "metadata": {
        "id": "EKheJEwsjMVc",
        "colab_type": "code",
        "colab": {}
      },
      "source": [
        "# function that will call word and open a contract that we have generated\n",
        "def open_contract():\n",
        "    filename = filedialog.askopenfilename(initialdir=os.getcwd(), filetypes=((\"Word Files\", \"*.docx\"), (\"All files\", \"*.*\")))\n",
        "    # there is different behavior on Windows vs Mac\n",
        "    if tk.sys.platform == \"win32\":\n",
        "        os.startfile('%s' % filename)\n",
        "    else:\n",
        "        # we assume Mac since we do not support linux yet\n",
        "        subprocess.call([\"open\", filename])\n",
        "\n",
        "\n",
        "# function that will call excel to edit the excel file used to generate contracts\n",
        "def modify_excel():\n",
        "    filename = filedialog.askopenfilename(initialdir=os.getcwd(), filetypes=((\"Excel Files\", \"*.xlsx\"), (\"All files\", \"*.*\")))\n",
        "    # there is different behavior on Windows vs Mac\n",
        "    if tk.sys.platform == \"win32\":\n",
        "        os.startfile('%s' % filename)\n",
        "    else:\n",
        "        # we assume Mac since we do not support linux yet\n",
        "        subprocess.call([\"open\", filename])\n",
        "\n",
        "\n",
        "# function that deletes a contract\n",
        "def delete_contract():\n",
        "    filename = filedialog.askopenfilename(filetypes=((\"Word Files\", \"*.docx\"), (\"All files\", \"*.*\")))\n",
        "    os.remove('%s' % filename)"
      ],
      "execution_count": null,
      "outputs": []
    },
    {
      "cell_type": "markdown",
      "metadata": {
        "id": "YH_nIVqkkXbR",
        "colab_type": "text"
      },
      "source": [
        "## Excel Functionality\n",
        "![img](https://github.com/itb-ie/MasterLaw-Session5-6/raw/master/pandas.png)\n",
        "The python library to open and use excel file is called pandas.\n",
        "**You need to install pandas and xlrd libraries**\n",
        "\n",
        "This topic is a bit rushed, since we did not study it in great detail. The idea is that pandas allows us to view an excel file as a table. We can extract data by rows, or by columns or by more complex rules.<br>\n",
        "We just care about the most basic functionality: get all the elements from a certain column and store them in a list. So if we have 3 contracts that means we have 3 rows. So when we get the elements from the Attorney column, we will get a list of 3 attorneys. Same goes for clients, fees and all the wildcards in our template <br>\n",
        "Here is the code, again, it makes no sense to run it alone:\n"
      ]
    },
    {
      "cell_type": "code",
      "metadata": {
        "id": "Qv0KmtuNlmkr",
        "colab_type": "code",
        "colab": {}
      },
      "source": [
        "filename = filedialog.askopenfilename(filetypes=((\"Excel Files\", \"*.xlsx\"), (\"All files\", \"*.*\")))\n",
        "# open the excel document and extract the data\n",
        "df = pd.read_excel(filename)\n",
        "\n",
        "lawyer = df[\"Attorney\"]\n",
        "client = df[\"Client\"]\n",
        "service = df[\"Service\"]\n",
        "compensation_value = df[\"Compensation Value\"]\n",
        "deposit_value = df[\"Deposit Value\"]\n",
        "refundable_deposit_value = df[\"Refundable Deposit Value\"]\n",
        "nonrefundable_deposit_value = df[\"Nonrefundable Deposit Value\"]\n",
        "deposit_date = df[\"Deposit Date\"]\n",
        "jurisdiction = df[\"Jurisdiction\"]\n"
      ],
      "execution_count": null,
      "outputs": []
    },
    {
      "cell_type": "markdown",
      "metadata": {
        "id": "ehIplSObmdSt",
        "colab_type": "text"
      },
      "source": [
        "## Put it all together inside Pycharm\n",
        "Here is the link for the repo:<br>\n",
        "https://github.com/itb-ie/Law_Contract_Generator <br>\n",
        "\n",
        "Clone or fork that repo into pycharm\n",
        "Install these extra dependencies:\n",
        "python-docx\n",
        "\n",
        "*   pands\n",
        "*   xlrd\n",
        "*   ttkthemes\n",
        "\n",
        "This should be all. Run the application and play with it."
      ]
    },
    {
      "cell_type": "markdown",
      "metadata": {
        "id": "b2hgpavqmCvA",
        "colab_type": "text"
      },
      "source": [
        "## Package as a Standalone Application\n",
        "All the code that we have written so far needed python or pycharm to run. <br>\n",
        "This is good for learning, but an actual application just runs, without the need for extra IDEs or external programs. <br>\n",
        "\n",
        "The library that creates the executable is called: PyInstaller. Go to settings -> project interpreter -> click the plus and install PyInstaller. <br>\n",
        "Still in settings, go to tools -> external tools and click +.\n",
        "Add a name like: Compile the Generator <br>\n",
        "Under Program: Choose the pyinstaller.exe under venv/scripts\n",
        "Under parameters type: --onefile -w generate.py\n",
        "Under working dir choose: \\$ProjectFileDir\\$\n",
        "\n",
        "Richt Click on generate.py, choose external tools, and choose the tool just created. \n",
        "A folder called dist will appear with the executable. Move the doc-generator.gif file there and run it.\n"
      ]
    }
  ]
}